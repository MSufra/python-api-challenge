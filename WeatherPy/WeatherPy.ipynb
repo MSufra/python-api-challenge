{
 "cells": [
  {
   "cell_type": "markdown",
   "metadata": {},
   "source": [
    "# WeatherPy\n",
    "----\n",
    "\n",
    "#### Note\n",
    "* Instructions have been included for each segment. You do not have to follow them exactly, but they are included to help you think through the steps."
   ]
  },
  {
   "cell_type": "code",
   "execution_count": 1,
   "metadata": {},
   "outputs": [
    {
     "name": "stdout",
     "output_type": "stream",
     "text": [
      "Requirement already satisfied: citipy in c:\\users\\matt_\\anaconda3\\lib\\site-packages (0.0.5)\n",
      "Requirement already satisfied: kdtree>=0.12 in c:\\users\\matt_\\anaconda3\\lib\\site-packages (from citipy) (0.16)\n",
      "Note: you may need to restart the kernel to use updated packages.\n"
     ]
    }
   ],
   "source": [
    "pip install citipy"
   ]
  },
  {
   "cell_type": "code",
   "execution_count": 2,
   "metadata": {
    "scrolled": true
   },
   "outputs": [],
   "source": [
    "# Dependencies and Setup\n",
    "import matplotlib.pyplot as plt\n",
    "import pandas as pd\n",
    "import numpy as np\n",
    "import requests\n",
    "import time\n",
    "from scipy.stats import linregress\n",
    "\n",
    "# Import API key\n",
    "from api_keys import weather_api_key\n",
    "\n",
    "# Incorporated citipy to determine city based on latitude and longitude\n",
    "from citipy import citipy\n",
    "\n",
    "# Output File (CSV)\n",
    "output_data_file = \"output_data/cities.csv\"\n",
    "\n",
    "# Range of latitudes and longitudes\n",
    "lat_range = (-90, 90)\n",
    "lng_range = (-180, 180)"
   ]
  },
  {
   "cell_type": "markdown",
   "metadata": {},
   "source": [
    "## Generate Cities List"
   ]
  },
  {
   "cell_type": "code",
   "execution_count": 3,
   "metadata": {},
   "outputs": [
    {
     "data": {
      "text/plain": [
       "606"
      ]
     },
     "execution_count": 3,
     "metadata": {},
     "output_type": "execute_result"
    }
   ],
   "source": [
    "# List for holding lat_lngs and cities\n",
    "lat_lngs = []\n",
    "cities = []\n",
    "\n",
    "# Create a set of random lat and lng combinations\n",
    "lats = np.random.uniform(lat_range[0], lat_range[1], size=1500)\n",
    "lngs = np.random.uniform(lng_range[0], lng_range[1], size=1500)\n",
    "lat_lngs = zip(lats, lngs)\n",
    "\n",
    "# Identify nearest city for each lat, lng combination\n",
    "for lat_lng in lat_lngs:\n",
    "    city = citipy.nearest_city(lat_lng[0], lat_lng[1]).city_name\n",
    "    \n",
    "    # If the city is unique, then add it to a our cities list\n",
    "    if city not in cities:\n",
    "        cities.append(city)\n",
    "\n",
    "# Print the city count to confirm sufficient count\n",
    "len(cities)"
   ]
  },
  {
   "cell_type": "markdown",
   "metadata": {},
   "source": [
    "### Perform API Calls\n",
    "* Perform a weather check on each city using a series of successive API calls.\n",
    "* Include a print log of each city as it'sbeing processed (with the city number and city name).\n",
    "\n",
    "> **HINT:** The OpenWeatherMap API only allows 60 calls per minute under their free plan. Try using `time.sleep(60)` after each set of 50 cities to avoid API errors due to large calls."
   ]
  },
  {
   "cell_type": "code",
   "execution_count": 4,
   "metadata": {
    "scrolled": true
   },
   "outputs": [
    {
     "name": "stdout",
     "output_type": "stream",
     "text": [
      "0 busselton processed\n",
      "1 kulhudhuffushi processed\n",
      "2 mataura processed\n",
      "3 barrow processed\n",
      "4 punta arenas processed\n",
      "5 taolanaro not found\n",
      "6 viesca processed\n",
      "7 acapulco processed\n",
      "8 luderitz processed\n",
      "9 cassilandia processed\n",
      "10 opotiki processed\n",
      "11 nueva guinea processed\n",
      "12 jamestown processed\n",
      "13 thaba-tseka processed\n",
      "14 ushuaia processed\n",
      "15 souillac processed\n",
      "16 kuytun processed\n",
      "17 nanortalik processed\n",
      "18 grand gaube processed\n",
      "19 qaanaaq processed\n",
      "20 te anau processed\n",
      "21 champerico processed\n",
      "22 tura processed\n",
      "23 bela processed\n",
      "24 staryy nadym processed\n",
      "25 aklavik processed\n",
      "26 saskylakh processed\n",
      "27 bambanglipuro processed\n",
      "28 rikitea processed\n",
      "29 artesia processed\n",
      "30 cayenne processed\n",
      "31 tuktoyaktuk processed\n",
      "32 uwayl not found\n",
      "33 bluff processed\n",
      "34 saldanha processed\n",
      "35 moron processed\n",
      "36 carnarvon processed\n",
      "37 cape town processed\n",
      "38 ostrovnoy processed\n",
      "39 hobart processed\n",
      "40 tasiilaq processed\n",
      "41 khatanga processed\n",
      "42 umm lajj processed\n",
      "43 knysna processed\n",
      "44 belushya guba not found\n",
      "45 bredasdorp processed\n",
      "46 saint-philippe processed\n",
      "47 antofagasta processed\n",
      "48 inderborskiy not found\n",
      "49 mahebourg processed\n",
      "50 kyshtovka processed\n",
      "51 naze processed\n",
      "52 fort-shevchenko processed\n",
      "53 amderma not found\n",
      "54 waddan processed\n",
      "55 santa rosa processed\n",
      "56 husavik processed\n",
      "57 dikson processed\n",
      "58 marcona not found\n",
      "59 vaini processed\n",
      "60 grand river south east not found\n",
      "61 port alfred processed\n",
      "62 cagayan de tawi-tawi not found\n",
      "63 sentyabrskiy not found\n",
      "64 plavsk processed\n",
      "65 kaitangata processed\n",
      "66 ambilobe processed\n",
      "67 caravelas processed\n",
      "68 bjala not found\n",
      "69 georgetown processed\n",
      "70 altar processed\n",
      "71 chicama processed\n",
      "72 hithadhoo processed\n",
      "73 illoqqortoormiut not found\n",
      "74 norman wells processed\n",
      "75 nikolskoye processed\n",
      "76 atuona processed\n",
      "77 galveston processed\n",
      "78 mrirt not found\n",
      "79 yellowknife processed\n",
      "80 omboue processed\n",
      "81 port lincoln processed\n",
      "82 tautira processed\n",
      "83 svatove processed\n",
      "84 komsomolskiy processed\n",
      "85 culfa processed\n",
      "86 mys shmidta not found\n",
      "87 new norfolk processed\n",
      "88 kodiak processed\n",
      "89 upernavik processed\n",
      "90 arraial do cabo processed\n",
      "91 krasnoselkup processed\n",
      "92 vestmannaeyjar processed\n",
      "93 attawapiskat not found\n",
      "94 sabzevar processed\n",
      "95 dolzhanskaya processed\n",
      "96 hilo processed\n",
      "97 north bend processed\n",
      "98 east london processed\n",
      "99 marquette processed\n",
      "100 utiroa not found\n",
      "101 provideniya processed\n",
      "102 wekiva springs processed\n",
      "103 tiksi processed\n",
      "104 werda processed\n",
      "105 lalibela processed\n",
      "106 ulladulla processed\n",
      "107 bethel processed\n",
      "108 kikwit processed\n",
      "109 codrington processed\n",
      "110 havoysund processed\n",
      "111 roald processed\n",
      "112 leningradskiy processed\n",
      "113 peniche processed\n",
      "114 samalaeulu not found\n",
      "115 khor processed\n",
      "116 roebourne processed\n",
      "117 key largo processed\n",
      "118 port macquarie processed\n",
      "119 jaisalmer processed\n",
      "120 saleaula not found\n",
      "121 chornobay processed\n",
      "122 albany processed\n",
      "123 damara processed\n",
      "124 barawe not found\n",
      "125 grand-santi processed\n",
      "126 bambous virieux processed\n",
      "127 thinadhoo processed\n",
      "128 jabiru not found\n",
      "129 newport processed\n",
      "130 zhigansk processed\n",
      "131 ruatoria not found\n",
      "132 kapaa processed\n",
      "133 karlskrona processed\n",
      "134 biak processed\n",
      "135 yangambi processed\n",
      "136 sataua not found\n",
      "137 mezen processed\n",
      "138 gushikawa processed\n",
      "139 hegang processed\n",
      "140 cidreira processed\n",
      "141 kavaratti processed\n",
      "142 koulamoutou processed\n",
      "143 pierre processed\n",
      "144 pacific grove processed\n",
      "145 buala processed\n",
      "146 yarmouth processed\n",
      "147 avarua processed\n",
      "148 kalmunai processed\n",
      "149 tabiauea not found\n",
      "150 faanui processed\n",
      "151 qaqortoq processed\n",
      "152 troitsko-pechorsk processed\n",
      "153 puerto ayora processed\n",
      "154 marawi processed\n",
      "155 vila do maio processed\n",
      "156 tsaratanana processed\n",
      "157 otradnoye processed\n",
      "158 thompson processed\n",
      "159 mount gambier processed\n",
      "160 avanigadda processed\n",
      "161 lebu processed\n",
      "162 kungurtug processed\n",
      "163 cuamba processed\n",
      "164 makokou processed\n",
      "165 pevek processed\n",
      "166 turayf processed\n",
      "167 lardos processed\n",
      "168 kununurra processed\n",
      "169 ahipara processed\n",
      "170 abu dhabi processed\n",
      "171 najran processed\n",
      "172 chuy processed\n",
      "173 mareeba processed\n",
      "174 mar del plata processed\n",
      "175 lar gerd not found\n",
      "176 katsiveli not found\n",
      "177 ilulissat processed\n",
      "178 xai-xai processed\n",
      "179 guaymas processed\n",
      "180 geraldton processed\n",
      "181 tabou processed\n",
      "182 barcelona processed\n",
      "183 vancouver processed\n",
      "184 esperance processed\n",
      "185 chemal processed\n",
      "186 urumqi processed\n",
      "187 searcy processed\n",
      "188 tromso processed\n",
      "189 airai processed\n",
      "190 acolla processed\n",
      "191 jutai processed\n",
      "192 bengkulu processed\n",
      "193 isangel processed\n",
      "194 meyungs not found\n",
      "195 klaksvik processed\n",
      "196 karamea not found\n",
      "197 hermanus processed\n",
      "198 ponta do sol processed\n",
      "199 torbay processed\n",
      "200 cabo san lucas processed\n",
      "201 kamenskoye not found\n",
      "202 lagoa processed\n",
      "203 bosaso processed\n",
      "204 barentsburg not found\n",
      "205 muros processed\n",
      "206 asau processed\n",
      "207 gazli processed\n",
      "208 fortuna processed\n",
      "209 falun processed\n",
      "210 hasaki processed\n",
      "211 ayagoz processed\n",
      "212 puerto carreno processed\n",
      "213 samusu not found\n",
      "214 narsaq processed\n",
      "215 shimoda processed\n",
      "216 clyde river processed\n",
      "217 popondetta processed\n",
      "218 tsihombe not found\n",
      "219 sao filipe processed\n",
      "220 setermoen processed\n",
      "221 butaritari processed\n",
      "222 mahon processed\n",
      "223 doha processed\n",
      "224 tolaga bay processed\n",
      "225 thessalon processed\n",
      "226 ketchikan processed\n",
      "227 nelson bay processed\n",
      "228 agadir processed\n",
      "229 santa catarina de tepehuanes processed\n",
      "230 vardo processed\n",
      "231 kukuna processed\n",
      "232 kavieng processed\n",
      "233 ust-nera processed\n",
      "234 lazaro cardenas processed\n",
      "235 saint george processed\n",
      "236 havre-saint-pierre processed\n",
      "237 baykit processed\n",
      "238 casper processed\n",
      "239 rio grande processed\n",
      "240 vuktyl processed\n",
      "241 victoria processed\n",
      "242 northam processed\n",
      "243 gravdal processed\n",
      "244 conakry processed\n",
      "245 ninh binh processed\n",
      "246 bandarbeyla processed\n",
      "247 sai buri processed\n",
      "248 nyurba processed\n",
      "249 aksu processed\n",
      "250 usinsk processed\n",
      "251 road town processed\n",
      "252 castro processed\n",
      "253 port elizabeth processed\n",
      "254 kuzovatovo processed\n",
      "255 kasempa processed\n",
      "256 qasigiannguit processed\n",
      "257 soc trang processed\n",
      "258 bara processed\n",
      "259 yanam processed\n",
      "260 cerro azul processed\n",
      "261 bidor processed\n",
      "262 jardim processed\n",
      "263 karratha processed\n",
      "264 nome processed\n",
      "265 placido de castro processed\n",
      "266 yaan processed\n",
      "267 severo-kurilsk processed\n",
      "268 kang processed\n",
      "269 yakeshi processed\n",
      "270 iskateley processed\n",
      "271 shenzhen processed\n",
      "272 katiola processed\n",
      "273 namatanai processed\n",
      "274 inta processed\n",
      "275 kishi processed\n",
      "276 coihaique processed\n",
      "277 livingstone processed\n",
      "278 oktyabrskoye processed\n",
      "279 xinmin processed\n",
      "280 bathsheba processed\n",
      "281 vaitupu not found\n",
      "282 sao sebastiao processed\n",
      "283 kosai processed\n",
      "284 asyut processed\n",
      "285 namie processed\n",
      "286 port-gentil processed\n",
      "287 bubaque processed\n",
      "288 hamilton processed\n",
      "289 sandy bay processed\n",
      "290 padang processed\n",
      "291 miranorte not found\n",
      "292 fereydun kenar processed\n",
      "293 avrille processed\n",
      "294 chokurdakh processed\n",
      "295 sovetskaya gavan processed\n",
      "296 de-kastri processed\n",
      "297 bolshoye sorokino not found\n",
      "298 gidam processed\n",
      "299 mocuba processed\n",
      "300 port-cartier processed\n",
      "301 batemans bay processed\n",
      "302 ugoofaaru processed\n",
      "303 luwuk processed\n",
      "304 adrar processed\n",
      "305 penuelas processed\n",
      "306 avera processed\n",
      "307 labutta not found\n",
      "308 kuznechikha processed\n",
      "309 barmer processed\n",
      "310 batagay-alyta processed\n",
      "311 karaul not found\n",
      "312 nguiu not found\n",
      "313 lorengau processed\n",
      "314 talnakh processed\n",
      "315 orchard homes processed\n",
      "316 la rioja processed\n",
      "317 deputatskiy processed\n",
      "318 oum hadjer processed\n",
      "319 sorong processed\n",
      "320 dien bien not found\n",
      "321 flinders processed\n",
      "322 ferme-neuve processed\n",
      "323 bargal not found\n",
      "324 sinnamary processed\n",
      "325 kyren processed\n",
      "326 chagda not found\n",
      "327 sokolka processed\n",
      "328 gat processed\n",
      "329 okahandja processed\n",
      "330 banda aceh processed\n",
      "331 tual processed\n",
      "332 san patricio processed\n",
      "333 khowst processed\n",
      "334 matara processed\n",
      "335 wamba processed\n",
      "336 pocoes processed\n",
      "337 ucluelet processed\n",
      "338 mkushi processed\n",
      "339 port hardy processed\n",
      "340 nemuro processed\n",
      "341 yulara processed\n",
      "342 charlestown processed\n",
      "343 kijang processed\n",
      "344 muttupet processed\n",
      "345 kollam processed\n",
      "346 sochi processed\n",
      "347 sitka processed\n",
      "348 navirai processed\n",
      "349 laguna processed\n",
      "350 gamba processed\n",
      "351 nalut processed\n",
      "352 gijon processed\n",
      "353 cumbitara processed\n",
      "354 mayo processed\n",
      "355 palmer processed\n",
      "356 yarada processed\n",
      "357 lompoc processed\n",
      "358 coahuayana processed\n",
      "359 rockport processed\n",
      "360 punta alta processed\n",
      "361 tuatapere processed\n",
      "362 kango processed\n",
      "363 dingle processed\n",
      "364 borgarnes processed\n",
      "365 grindavik processed\n",
      "366 tonj processed\n",
      "367 fort nelson processed\n",
      "368 manono processed\n",
      "369 sesheke processed\n",
      "370 virginia beach processed\n",
      "371 ust-barguzin processed\n",
      "372 kamenka processed\n",
      "373 babanusah not found\n",
      "374 bartica processed\n",
      "375 praia processed\n",
      "376 saint anthony processed\n",
      "377 hobyo processed\n",
      "378 paamiut processed\n",
      "379 tuzha processed\n",
      "380 vila velha processed\n",
      "381 moerai processed\n",
      "382 princeton processed\n",
      "383 acarau processed\n",
      "384 cabatuan processed\n",
      "385 tera processed\n",
      "386 martapura processed\n",
      "387 burica not found\n",
      "388 quelimane processed\n",
      "389 andevoranto not found\n",
      "390 vila franca do campo processed\n",
      "391 pochutla processed\n",
      "392 yashkul processed\n",
      "393 umm durman not found\n",
      "394 lavrentiya processed\n",
      "395 tuy hoa processed\n",
      "396 sur processed\n",
      "397 itarema processed\n",
      "398 huangzhai processed\n",
      "399 shaowu processed\n",
      "400 fallon processed\n",
      "401 lucapa processed\n",
      "402 junagarh processed\n",
      "403 coquimbo processed\n",
      "404 alice springs processed\n",
      "405 lethbridge processed\n",
      "406 shiraz processed\n",
      "407 sola processed\n",
      "408 san blas processed\n",
      "409 qinzhou processed\n",
      "410 san andres processed\n",
      "411 adre processed\n",
      "412 rio gallegos processed\n",
      "413 palabuhanratu not found\n",
      "414 dubenskiy not found\n",
      "415 tashla processed\n",
      "416 aflu not found\n",
      "417 sabang processed\n",
      "418 bawku processed\n",
      "419 pangnirtung processed\n",
      "420 tomatlan processed\n",
      "421 okhotsk processed\n",
      "422 bardiyah processed\n",
      "423 jega processed\n",
      "424 santa marta processed\n",
      "425 gualaquiza processed\n",
      "426 nchelenge processed\n",
      "427 alofi processed\n",
      "428 jining processed\n",
      "429 znamenskoye processed\n",
      "430 dolbeau not found\n",
      "431 puerto baquerizo moreno processed\n",
      "432 alto araguaia processed\n",
      "433 guaruja processed\n",
      "434 lukovetskiy processed\n",
      "435 jalu processed\n",
      "436 san fernando processed\n",
      "437 portland processed\n",
      "438 saryagash processed\n",
      "439 nyrob processed\n",
      "440 dukat processed\n",
      "441 louisbourg not found\n",
      "442 onalaska processed\n",
      "443 ribeira grande processed\n",
      "444 rio verde de mato grosso processed\n",
      "445 vao processed\n",
      "446 dandeli processed\n",
      "447 wanning processed\n",
      "448 edgewater processed\n",
      "449 maceio processed\n",
      "450 bukachacha processed\n",
      "451 rungata not found\n",
      "452 camana processed\n",
      "453 tlacotepec processed\n",
      "454 tornio processed\n",
      "455 jiamusi processed\n",
      "456 bossembele not found\n",
      "457 taksimo processed\n",
      "458 houma processed\n",
      "459 leonidion not found\n",
      "460 nizhneyansk not found\n",
      "461 alugan processed\n",
      "462 awash processed\n",
      "463 havelock processed\n",
      "464 penzance processed\n",
      "465 amarante do maranhao processed\n",
      "466 corinto processed\n",
      "467 hay river processed\n",
      "468 kupang processed\n",
      "469 san quintin processed\n",
      "470 lasa processed\n",
      "471 kahului processed\n",
      "472 torbat-e jam processed\n",
      "473 calhoun processed\n",
      "474 sorvag not found\n",
      "475 mustasaari processed\n",
      "476 kearney processed\n",
      "477 tumannyy not found\n",
      "478 pucallpa processed\n",
      "479 mana processed\n",
      "480 wollongong processed\n",
      "481 ust-kuyga processed\n",
      "482 zhuhai processed\n",
      "483 san jeronimo processed\n",
      "484 comodoro rivadavia processed\n",
      "485 maragogi processed\n",
      "486 umzimvubu not found\n",
      "487 longyearbyen processed\n",
      "488 touros processed\n",
      "489 ormara processed\n",
      "490 santander processed\n",
      "491 ardakan processed\n",
      "492 prince rupert processed\n",
      "493 linxia processed\n",
      "494 kaa-khem processed\n",
      "495 baykalsk processed\n",
      "496 campbellton processed\n",
      "497 bandar-e lengeh processed\n",
      "498 sungairaya processed\n",
      "499 los llanos de aridane processed\n",
      "500 golden processed\n",
      "501 srednekolymsk processed\n",
      "502 san juan processed\n",
      "503 pagudpud processed\n",
      "504 marsh harbour processed\n",
      "505 doctor arroyo processed\n",
      "506 sedro-woolley processed\n",
      "507 datong processed\n",
      "508 praia da vitoria processed\n",
      "509 sakaiminato processed\n",
      "510 cockburn town processed\n",
      "511 karlovo processed\n",
      "512 port blair processed\n",
      "513 rexburg processed\n",
      "514 chifeng processed\n",
      "515 batagay processed\n",
      "516 uramita processed\n",
      "517 wewak processed\n",
      "518 sale processed\n",
      "519 general jose eduvigis diaz processed\n",
      "520 bonthe processed\n",
      "521 tudela processed\n",
      "522 port hawkesbury processed\n",
      "523 asimion processed\n",
      "524 santa rita processed\n",
      "525 fare processed\n",
      "526 mae ramat processed\n",
      "527 araouane processed\n",
      "528 mbanza-ngungu processed\n",
      "529 fort myers beach processed\n",
      "530 energeticheskiy processed\n",
      "531 carutapera processed\n",
      "532 kudat processed\n",
      "533 yerbogachen processed\n",
      "534 carballo processed\n",
      "535 honningsvag processed\n",
      "536 tukrah processed\n",
      "537 roros processed\n",
      "538 peterhead processed\n",
      "539 talcahuano processed\n",
      "540 timberlake processed\n",
      "541 viedma processed\n",
      "542 bengkalis not found\n",
      "543 constitucion processed\n",
      "544 pemangkat processed\n",
      "545 nuuk processed\n",
      "546 waterloo processed\n",
      "547 aquiraz processed\n",
      "548 poum processed\n",
      "549 sorland processed\n",
      "550 kemijarvi processed\n",
      "551 poli processed\n",
      "552 pindiga processed\n",
      "553 aykhal processed\n",
      "554 huarmey processed\n",
      "555 jinchang processed\n",
      "556 alta floresta processed\n",
      "557 morondava processed\n",
      "558 murmino processed\n",
      "559 cuauhtemoc processed\n",
      "560 haines junction processed\n",
      "561 skoghall processed\n",
      "562 sao joao da barra processed\n",
      "563 aguimes processed\n",
      "564 ratnagiri processed\n",
      "565 pangai processed\n",
      "566 lentekhi processed\n",
      "567 bhadrapur processed\n",
      "568 san cristobal processed\n",
      "569 kudahuvadhoo processed\n",
      "570 ust-tsilma processed\n",
      "571 cherskiy processed\n",
      "572 mao processed\n",
      "573 negombo processed\n",
      "574 harlingen processed\n",
      "575 ca mau processed\n",
      "576 ventspils processed\n",
      "577 namibe processed\n",
      "578 plettenberg bay processed\n",
      "579 whitianga processed\n",
      "580 turki processed\n",
      "581 bousso processed\n",
      "582 opuwo processed\n",
      "583 dzhusaly not found\n",
      "584 liverpool processed\n",
      "585 aranos processed\n",
      "586 ransang processed\n",
      "587 loiza processed\n",
      "588 whitehorse processed\n",
      "589 mount isa processed\n",
      "590 abha processed\n",
      "591 quang ngai processed\n",
      "592 shirochanka processed\n",
      "593 immokalee processed\n",
      "594 henties bay processed\n",
      "595 chabahar processed\n",
      "596 la palma processed\n",
      "597 dzerzhinsk processed\n",
      "598 kaoma processed\n",
      "599 uruzgan processed\n",
      "600 carson city processed\n",
      "601 muroran processed\n",
      "602 verkhneuralsk processed\n",
      "603 kalabo processed\n",
      "604 westport processed\n",
      "605 timizart processed\n"
     ]
    }
   ],
   "source": [
    "base_url = 'http://api.openweathermap.org/data/2.5/weather?q='\n",
    "\n",
    "\n",
    "temps = []\n",
    "humids = []\n",
    "clouds = []\n",
    "lats = []\n",
    "winds = []\n",
    "found_cities=[]\n",
    "\n",
    "for city in cities:\n",
    "    try:\n",
    "        query_url = base_url+city+'&appid='+weather_api_key\n",
    "        weather_response = requests.get(query_url)\n",
    "        weather_json = weather_response.json()\n",
    "        temps.append(weather_json['main']['temp'])\n",
    "        humids.append(weather_json['main']['humidity'])\n",
    "        clouds.append(weather_json['clouds']['all'])\n",
    "        winds.append(weather_json['wind']['speed'])\n",
    "        lats.append(weather_json['coord']['lat'])\n",
    "        found_cities.append(weather_json['name'])\n",
    "        \n",
    "        print(f'{cities.index(city)} {city} processed')\n",
    "    \n",
    "    except requests.HTTPError:\n",
    "        print(f'{cities.index(city)} {city} API call limit, waiting 60 seconds')\n",
    "        time.sleep(60)\n",
    "    except KeyError:\n",
    "        print(f'{cities.index(city)} {city} not found')\n"
   ]
  },
  {
   "cell_type": "markdown",
   "metadata": {},
   "source": [
    "### Convert Raw Data to DataFrame\n",
    "* Export the city data into a .csv.\n",
    "* Display the DataFrame"
   ]
  },
  {
   "cell_type": "code",
   "execution_count": 5,
   "metadata": {},
   "outputs": [],
   "source": [
    "weather_df =pd.DataFrame({\n",
    "    'City':found_cities,\n",
    "    'Latitude':lats,\n",
    "    'Temperature':temps,\n",
    "    'Humidity %':humids,\n",
    "    'Cloudiness':clouds,\n",
    "    'Wind Speed':winds})\n",
    "\n",
    "weather_df.to_csv('..\\output_data\\city_data.csv')"
   ]
  },
  {
   "cell_type": "markdown",
   "metadata": {},
   "source": [
    "## Inspect the data and remove the cities where the humidity > 100%.\n",
    "----\n",
    "Skip this step if there are no cities that have humidity > 100%. "
   ]
  },
  {
   "cell_type": "code",
   "execution_count": 10,
   "metadata": {},
   "outputs": [
    {
     "data": {
      "text/plain": [
       "549"
      ]
     },
     "execution_count": 10,
     "metadata": {},
     "output_type": "execute_result"
    }
   ],
   "source": [
    "#  Get the indices of cities that have humidity over 100%."
   ]
  },
  {
   "cell_type": "code",
   "execution_count": 9,
   "metadata": {},
   "outputs": [
    {
     "data": {
      "text/plain": [
       "549"
      ]
     },
     "execution_count": 9,
     "metadata": {},
     "output_type": "execute_result"
    }
   ],
   "source": [
    "# Make a new DataFrame equal to the city data to drop all humidity outliers by index.\n",
    "# Passing \"inplace=False\" will make a copy of the city_data DataFrame, which we call \"clean_city_data\".\n",
    "clean_city_data = weather_df.drop(weather_df[weather_df['Humidity %'] > 100].index)\n",
    "len(clean_city_data)"
   ]
  },
  {
   "cell_type": "code",
   "execution_count": null,
   "metadata": {},
   "outputs": [],
   "source": [
    "\n"
   ]
  },
  {
   "cell_type": "markdown",
   "metadata": {},
   "source": [
    "## Plotting the Data\n",
    "* Use proper labeling of the plots using plot titles (including date of analysis) and axes labels.\n",
    "* Save the plotted figures as .pngs."
   ]
  },
  {
   "cell_type": "markdown",
   "metadata": {},
   "source": [
    "## Latitude vs. Temperature Plot"
   ]
  },
  {
   "cell_type": "code",
   "execution_count": 23,
   "metadata": {
    "scrolled": true
   },
   "outputs": [
    {
     "data": {
      "image/png": "[encoded data removed]",
      "text/plain": [
       "<Figure size 432x288 with 1 Axes>"
      ]
     },
     "metadata": {
      "needs_background": "light"
     },
     "output_type": "display_data"
    }
   ],
   "source": [
    "plt.scatter(clean_city_data['Latitude'],clean_city_data['Temperature'])\n",
    "plt.xlabel('Latitude')\n",
    "plt.ylabel('Temperature (°C)')\n",
    "plt.title('Latitude vs. Temperature')\n",
    "plt.savefig('../output_data/Fig1')"
   ]
  },
  {
   "cell_type": "markdown",
   "metadata": {},
   "source": [
    "Plots the latitude of a city against the temperature of the city"
   ]
  },
  {
   "cell_type": "markdown",
   "metadata": {},
   "source": [
    "## Latitude vs. Humidity Plot"
   ]
  },
  {
   "cell_type": "code",
   "execution_count": 24,
   "metadata": {},
   "outputs": [
    {
     "data": {
      "image/png": "[encoded data removed]",
      "text/plain": [
       "<Figure size 432x288 with 1 Axes>"
      ]
     },
     "metadata": {
      "needs_background": "light"
     },
     "output_type": "display_data"
    }
   ],
   "source": [
    "plt.scatter(clean_city_data['Latitude'],clean_city_data['Humidity %'])\n",
    "plt.xlabel('Latitude')\n",
    "plt.ylabel('Humidity %')\n",
    "plt.title('Latitude vs. Humidity %')\n",
    "plt.savefig('../output_data/Fig2')"
   ]
  },
  {
   "cell_type": "markdown",
   "metadata": {},
   "source": [
    "Plots the latitude of a city against the Humidity% of the city"
   ]
  },
  {
   "cell_type": "markdown",
   "metadata": {},
   "source": [
    "## Latitude vs. Cloudiness Plot"
   ]
  },
  {
   "cell_type": "code",
   "execution_count": 22,
   "metadata": {},
   "outputs": [
    {
     "data": {
      "image/png": "[encoded data removed]",
      "text/plain": [
       "<Figure size 432x288 with 1 Axes>"
      ]
     },
     "metadata": {
      "needs_background": "light"
     },
     "output_type": "display_data"
    }
   ],
   "source": [
    "plt.scatter(clean_city_data['Latitude'],clean_city_data['Humidity %'])\n",
    "plt.xlabel('Latitude')\n",
    "plt.ylabel('Cloudiness %')\n",
    "plt.title('Latitude vs. Cloudiness')\n",
    "plt.savefig('../output_data/Fig3')"
   ]
  },
  {
   "cell_type": "markdown",
   "metadata": {},
   "source": [
    "Plots the latitude of a city against the Cloudiness of the city"
   ]
  },
  {
   "cell_type": "markdown",
   "metadata": {},
   "source": [
    "## Latitude vs. Wind Speed Plot"
   ]
  },
  {
   "cell_type": "code",
   "execution_count": 21,
   "metadata": {},
   "outputs": [
    {
     "data": {
      "image/png": "[encoded data removed]",
      "text/plain": [
       "<Figure size 432x288 with 1 Axes>"
      ]
     },
     "metadata": {
      "needs_background": "light"
     },
     "output_type": "display_data"
    }
   ],
   "source": [
    "plt.scatter(clean_city_data['Latitude'],clean_city_data['Wind Speed'])\n",
    "plt.xlabel('Latitude')\n",
    "plt.ylabel('Wind Speed')\n",
    "plt.title('Latitude vs. Wind Speed')\n",
    "plt.savefig('../output_data/Fig4')"
   ]
  },
  {
   "cell_type": "markdown",
   "metadata": {},
   "source": [
    "Plots the latitude of a city against the Wind Speed of the city"
   ]
  },
  {
   "cell_type": "markdown",
   "metadata": {},
   "source": [
    "## Linear Regression"
   ]
  },
  {
   "cell_type": "code",
   "execution_count": 29,
   "metadata": {},
   "outputs": [
    {
     "data": {
      "text/html": [
       "<div>\n",
       "<style scoped>\n",
       "    .dataframe tbody tr th:only-of-type {\n",
       "        vertical-align: middle;\n",
       "    }\n",
       "\n",
       "    .dataframe tbody tr th {\n",
       "        vertical-align: top;\n",
       "    }\n",
       "\n",
       "    .dataframe thead th {\n",
       "        text-align: right;\n",
       "    }\n",
       "</style>\n",
       "<table border=\"1\" class=\"dataframe\">\n",
       "  <thead>\n",
       "    <tr style=\"text-align: right;\">\n",
       "      <th></th>\n",
       "      <th>City</th>\n",
       "      <th>Latitude</th>\n",
       "      <th>Temperature</th>\n",
       "      <th>Humidity %</th>\n",
       "      <th>Cloudiness</th>\n",
       "      <th>Wind Speed</th>\n",
       "    </tr>\n",
       "  </thead>\n",
       "  <tbody>\n",
       "    <tr>\n",
       "      <th>1</th>\n",
       "      <td>Kulhudhuffushi</td>\n",
       "      <td>6.6221</td>\n",
       "      <td>300.48</td>\n",
       "      <td>74</td>\n",
       "      <td>17</td>\n",
       "      <td>3.56</td>\n",
       "    </tr>\n",
       "    <tr>\n",
       "      <th>3</th>\n",
       "      <td>Barrow</td>\n",
       "      <td>71.2906</td>\n",
       "      <td>257.16</td>\n",
       "      <td>85</td>\n",
       "      <td>90</td>\n",
       "      <td>14.92</td>\n",
       "    </tr>\n",
       "    <tr>\n",
       "      <th>5</th>\n",
       "      <td>Viesca</td>\n",
       "      <td>25.3500</td>\n",
       "      <td>287.35</td>\n",
       "      <td>51</td>\n",
       "      <td>44</td>\n",
       "      <td>2.45</td>\n",
       "    </tr>\n",
       "    <tr>\n",
       "      <th>6</th>\n",
       "      <td>Acapulco de Juárez</td>\n",
       "      <td>16.8634</td>\n",
       "      <td>301.05</td>\n",
       "      <td>74</td>\n",
       "      <td>75</td>\n",
       "      <td>4.63</td>\n",
       "    </tr>\n",
       "    <tr>\n",
       "      <th>10</th>\n",
       "      <td>Nueva Guinea</td>\n",
       "      <td>11.6876</td>\n",
       "      <td>295.17</td>\n",
       "      <td>96</td>\n",
       "      <td>15</td>\n",
       "      <td>3.12</td>\n",
       "    </tr>\n",
       "    <tr>\n",
       "      <th>...</th>\n",
       "      <td>...</td>\n",
       "      <td>...</td>\n",
       "      <td>...</td>\n",
       "      <td>...</td>\n",
       "      <td>...</td>\n",
       "      <td>...</td>\n",
       "    </tr>\n",
       "    <tr>\n",
       "      <th>543</th>\n",
       "      <td>Carson City</td>\n",
       "      <td>39.1638</td>\n",
       "      <td>275.81</td>\n",
       "      <td>53</td>\n",
       "      <td>1</td>\n",
       "      <td>5.14</td>\n",
       "    </tr>\n",
       "    <tr>\n",
       "      <th>544</th>\n",
       "      <td>Muroran</td>\n",
       "      <td>42.3172</td>\n",
       "      <td>271.29</td>\n",
       "      <td>68</td>\n",
       "      <td>96</td>\n",
       "      <td>8.47</td>\n",
       "    </tr>\n",
       "    <tr>\n",
       "      <th>545</th>\n",
       "      <td>Verkhneural'sk</td>\n",
       "      <td>53.8769</td>\n",
       "      <td>269.26</td>\n",
       "      <td>92</td>\n",
       "      <td>91</td>\n",
       "      <td>2.77</td>\n",
       "    </tr>\n",
       "    <tr>\n",
       "      <th>547</th>\n",
       "      <td>Westport</td>\n",
       "      <td>41.1415</td>\n",
       "      <td>272.01</td>\n",
       "      <td>66</td>\n",
       "      <td>1</td>\n",
       "      <td>1.34</td>\n",
       "    </tr>\n",
       "    <tr>\n",
       "      <th>548</th>\n",
       "      <td>Timizart</td>\n",
       "      <td>36.8000</td>\n",
       "      <td>282.49</td>\n",
       "      <td>68</td>\n",
       "      <td>11</td>\n",
       "      <td>2.34</td>\n",
       "    </tr>\n",
       "  </tbody>\n",
       "</table>\n",
       "<p>386 rows × 6 columns</p>\n",
       "</div>"
      ],
      "text/plain": [
       "                   City  Latitude  Temperature  Humidity %  Cloudiness  \\\n",
       "1        Kulhudhuffushi    6.6221       300.48          74          17   \n",
       "3                Barrow   71.2906       257.16          85          90   \n",
       "5                Viesca   25.3500       287.35          51          44   \n",
       "6    Acapulco de Juárez   16.8634       301.05          74          75   \n",
       "10         Nueva Guinea   11.6876       295.17          96          15   \n",
       "..                  ...       ...          ...         ...         ...   \n",
       "543         Carson City   39.1638       275.81          53           1   \n",
       "544             Muroran   42.3172       271.29          68          96   \n",
       "545      Verkhneural'sk   53.8769       269.26          92          91   \n",
       "547            Westport   41.1415       272.01          66           1   \n",
       "548            Timizart   36.8000       282.49          68          11   \n",
       "\n",
       "     Wind Speed  \n",
       "1          3.56  \n",
       "3         14.92  \n",
       "5          2.45  \n",
       "6          4.63  \n",
       "10         3.12  \n",
       "..          ...  \n",
       "543        5.14  \n",
       "544        8.47  \n",
       "545        2.77  \n",
       "547        1.34  \n",
       "548        2.34  \n",
       "\n",
       "[386 rows x 6 columns]"
      ]
     },
     "execution_count": 29,
     "metadata": {},
     "output_type": "execute_result"
    }
   ],
   "source": [
    "northern_cities = clean_city_data.loc[clean_city_data['Latitude']>=0]\n",
    "southern_cities = clean_city_data.loc[clean_city_data['Latitude']<0]"
   ]
  },
  {
   "cell_type": "markdown",
   "metadata": {},
   "source": [
    "####  Northern Hemisphere - Max Temp vs. Latitude Linear Regression"
   ]
  },
  {
   "cell_type": "code",
   "execution_count": 34,
   "metadata": {},
   "outputs": [
    {
     "data": {
      "text/plain": [
       "<function matplotlib.pyplot.show(close=None, block=None)>"
      ]
     },
     "execution_count": 34,
     "metadata": {},
     "output_type": "execute_result"
    },
    {
     "data": {
      "image/png": "[encoded data removed]",
      "text/plain": [
       "<Figure size 432x288 with 1 Axes>"
      ]
     },
     "metadata": {
      "needs_background": "light"
     },
     "output_type": "display_data"
    }
   ],
   "source": [
    "xaxis = northern_cities['Latitude']\n",
    "yaxis = northern_cities['Temperature']\n",
    "\n",
    "(slope, intercept, rvalue, pvalue, stderr) = linregress(xaxis, yaxis)\n",
    "regress_values = xaxis * slope + intercept\n",
    "line_eq = \"y = \" + str(round(slope,2)) + \"x + \" + str(round(intercept,2))\n",
    "plt.xlabel('Latitude')\n",
    "plt.ylabel('Temperature (°C)')\n",
    "plt.title('Northern Hemisphere Latitude vs. Temperature')\n",
    "\n",
    "plt.scatter(xaxis,yaxis)\n",
    "plt.plot(xaxis,regress_values,\"r-\")\n",
    "plt.show"
   ]
  },
  {
   "cell_type": "markdown",
   "metadata": {},
   "source": [
    "####  Southern Hemisphere - Max Temp vs. Latitude Linear Regression"
   ]
  },
  {
   "cell_type": "code",
   "execution_count": 35,
   "metadata": {},
   "outputs": [
    {
     "data": {
      "text/plain": [
       "<function matplotlib.pyplot.show(close=None, block=None)>"
      ]
     },
     "execution_count": 35,
     "metadata": {},
     "output_type": "execute_result"
    },
    {
     "data": {
      "image/png": "[encoded data removed]",
      "text/plain": [
       "<Figure size 432x288 with 1 Axes>"
      ]
     },
     "metadata": {
      "needs_background": "light"
     },
     "output_type": "display_data"
    }
   ],
   "source": [
    "xaxis = southern_cities['Latitude']\n",
    "yaxis = southern_cities['Temperature']\n",
    "\n",
    "(slope, intercept, rvalue, pvalue, stderr) = linregress(xaxis, yaxis)\n",
    "regress_values = xaxis * slope + intercept\n",
    "line_eq = \"y = \" + str(round(slope,2)) + \"x + \" + str(round(intercept,2))\n",
    "plt.xlabel('Latitude')\n",
    "plt.ylabel('Temperature (°C)')\n",
    "plt.title('Southern Hemisphere Latitude vs. Temperature')\n",
    "\n",
    "plt.scatter(xaxis,yaxis)\n",
    "plt.plot(xaxis,regress_values,\"r-\")\n",
    "plt.show"
   ]
  },
  {
   "cell_type": "markdown",
   "metadata": {},
   "source": [
    "From both graphs we can see a relationship between latitidue and temperature.\n",
    "As Latitude approaches 0 (the equator) temperature trends up.\n",
    "The strength of this relationship is greater in the Northern Hemisphere."
   ]
  },
  {
   "cell_type": "markdown",
   "metadata": {},
   "source": [
    "####  Northern Hemisphere - Humidity (%) vs. Latitude Linear Regression"
   ]
  },
  {
   "cell_type": "code",
   "execution_count": 36,
   "metadata": {},
   "outputs": [
    {
     "data": {
      "text/plain": [
       "<function matplotlib.pyplot.show(close=None, block=None)>"
      ]
     },
     "execution_count": 36,
     "metadata": {},
     "output_type": "execute_result"
    },
    {
     "data": {
      "image/png": "[encoded data removed]",
      "text/plain": [
       "<Figure size 432x288 with 1 Axes>"
      ]
     },
     "metadata": {
      "needs_background": "light"
     },
     "output_type": "display_data"
    }
   ],
   "source": [
    "xaxis = northern_cities['Latitude']\n",
    "yaxis = northern_cities['Humidity %']\n",
    "\n",
    "(slope, intercept, rvalue, pvalue, stderr) = linregress(xaxis, yaxis)\n",
    "regress_values = xaxis * slope + intercept\n",
    "line_eq = \"y = \" + str(round(slope,2)) + \"x + \" + str(round(intercept,2))\n",
    "plt.xlabel('Latitude')\n",
    "plt.ylabel('Humidity %')\n",
    "plt.title('Northern Hemisphere Latitude vs. Humidity')\n",
    "\n",
    "plt.scatter(xaxis,yaxis)\n",
    "plt.plot(xaxis,regress_values,\"r-\")\n",
    "plt.show"
   ]
  },
  {
   "cell_type": "markdown",
   "metadata": {},
   "source": [
    "####  Southern Hemisphere - Humidity (%) vs. Latitude Linear Regression"
   ]
  },
  {
   "cell_type": "code",
   "execution_count": 37,
   "metadata": {},
   "outputs": [
    {
     "data": {
      "text/plain": [
       "<function matplotlib.pyplot.show(close=None, block=None)>"
      ]
     },
     "execution_count": 37,
     "metadata": {},
     "output_type": "execute_result"
    },
    {
     "data": {
      "image/png": "[encoded data removed]",
      "text/plain": [
       "<Figure size 432x288 with 1 Axes>"
      ]
     },
     "metadata": {
      "needs_background": "light"
     },
     "output_type": "display_data"
    }
   ],
   "source": [
    "xaxis = southern_cities['Latitude']\n",
    "yaxis = southern_cities['Humidity %']\n",
    "\n",
    "(slope, intercept, rvalue, pvalue, stderr) = linregress(xaxis, yaxis)\n",
    "regress_values = xaxis * slope + intercept\n",
    "line_eq = \"y = \" + str(round(slope,2)) + \"x + \" + str(round(intercept,2))\n",
    "plt.xlabel('Latitude')\n",
    "plt.ylabel('Humidity %')\n",
    "plt.title('Southern Hemisphere Latitude vs. Humidity')\n",
    "\n",
    "plt.scatter(xaxis,yaxis)\n",
    "plt.plot(xaxis,regress_values,\"r-\")\n",
    "plt.show"
   ]
  },
  {
   "cell_type": "markdown",
   "metadata": {},
   "source": [
    "Both graphs show humudity % increasing as latitude increases.\n",
    "In the Northern hemispehre this correlation seems weak, with many data points having high humidity at latitidues closer to 0."
   ]
  },
  {
   "cell_type": "markdown",
   "metadata": {},
   "source": [
    "####  Northern Hemisphere - Cloudiness (%) vs. Latitude Linear Regression"
   ]
  },
  {
   "cell_type": "code",
   "execution_count": 38,
   "metadata": {},
   "outputs": [
    {
     "data": {
      "text/plain": [
       "<function matplotlib.pyplot.show(close=None, block=None)>"
      ]
     },
     "execution_count": 38,
     "metadata": {},
     "output_type": "execute_result"
    },
    {
     "data": {
      "image/png": "[encoded data removed]",
      "text/plain": [
       "<Figure size 432x288 with 1 Axes>"
      ]
     },
     "metadata": {
      "needs_background": "light"
     },
     "output_type": "display_data"
    }
   ],
   "source": [
    "xaxis = northern_cities['Latitude']\n",
    "yaxis = northern_cities['Cloudiness']\n",
    "\n",
    "(slope, intercept, rvalue, pvalue, stderr) = linregress(xaxis, yaxis)\n",
    "regress_values = xaxis * slope + intercept\n",
    "line_eq = \"y = \" + str(round(slope,2)) + \"x + \" + str(round(intercept,2))\n",
    "plt.xlabel('Latitude')\n",
    "plt.ylabel('Cloudiness')\n",
    "plt.title('Northern Hemisphere Latitude vs. Cloudiness')\n",
    "\n",
    "plt.scatter(xaxis,yaxis)\n",
    "plt.plot(xaxis,regress_values,\"r-\")\n",
    "plt.show"
   ]
  },
  {
   "cell_type": "markdown",
   "metadata": {},
   "source": [
    "####  Southern Hemisphere - Cloudiness (%) vs. Latitude Linear Regression"
   ]
  },
  {
   "cell_type": "code",
   "execution_count": 39,
   "metadata": {},
   "outputs": [
    {
     "data": {
      "text/plain": [
       "<function matplotlib.pyplot.show(close=None, block=None)>"
      ]
     },
     "execution_count": 39,
     "metadata": {},
     "output_type": "execute_result"
    },
    {
     "data": {
      "image/png": "[encoded data removed]",
      "text/plain": [
       "<Figure size 432x288 with 1 Axes>"
      ]
     },
     "metadata": {
      "needs_background": "light"
     },
     "output_type": "display_data"
    }
   ],
   "source": [
    "xaxis = southern_cities['Latitude']\n",
    "yaxis = southern_cities['Cloudiness']\n",
    "\n",
    "(slope, intercept, rvalue, pvalue, stderr) = linregress(xaxis, yaxis)\n",
    "regress_values = xaxis * slope + intercept\n",
    "line_eq = \"y = \" + str(round(slope,2)) + \"x + \" + str(round(intercept,2))\n",
    "plt.xlabel('Latitude')\n",
    "plt.ylabel('Cloudiness')\n",
    "plt.title('Southern Hemisphere Latitude vs. Cloudiness')\n",
    "\n",
    "plt.scatter(xaxis,yaxis)\n",
    "plt.plot(xaxis,regress_values,\"r-\")\n",
    "plt.show"
   ]
  },
  {
   "cell_type": "markdown",
   "metadata": {},
   "source": [
    "The lines of regression show a positive correlation between latitude and wind speed.\n",
    "However when looking at the scatter plots this correlation appears very weak."
   ]
  },
  {
   "cell_type": "markdown",
   "metadata": {},
   "source": [
    "####  Northern Hemisphere - Wind Speed (mph) vs. Latitude Linear Regression"
   ]
  },
  {
   "cell_type": "code",
   "execution_count": 40,
   "metadata": {},
   "outputs": [
    {
     "data": {
      "text/plain": [
       "<function matplotlib.pyplot.show(close=None, block=None)>"
      ]
     },
     "execution_count": 40,
     "metadata": {},
     "output_type": "execute_result"
    },
    {
     "data": {
      "image/png": "[encoded data removed]",
      "text/plain": [
       "<Figure size 432x288 with 1 Axes>"
      ]
     },
     "metadata": {
      "needs_background": "light"
     },
     "output_type": "display_data"
    }
   ],
   "source": [
    "xaxis = northern_cities['Latitude']\n",
    "yaxis = northern_cities['Wind Speed']\n",
    "\n",
    "(slope, intercept, rvalue, pvalue, stderr) = linregress(xaxis, yaxis)\n",
    "regress_values = xaxis * slope + intercept\n",
    "line_eq = \"y = \" + str(round(slope,2)) + \"x + \" + str(round(intercept,2))\n",
    "plt.xlabel('Latitude')\n",
    "plt.ylabel('Wind Speed')\n",
    "plt.title('Northern Hemisphere Latitude vs. Wind Speed')\n",
    "\n",
    "plt.scatter(xaxis,yaxis)\n",
    "plt.plot(xaxis,regress_values,\"r-\")\n",
    "plt.show"
   ]
  },
  {
   "cell_type": "markdown",
   "metadata": {},
   "source": [
    "####  Southern Hemisphere - Wind Speed (mph) vs. Latitude Linear Regression"
   ]
  },
  {
   "cell_type": "code",
   "execution_count": 41,
   "metadata": {},
   "outputs": [
    {
     "data": {
      "text/plain": [
       "<function matplotlib.pyplot.show(close=None, block=None)>"
      ]
     },
     "execution_count": 41,
     "metadata": {},
     "output_type": "execute_result"
    },
    {
     "data": {
      "image/png": "[encoded data removed]",
      "text/plain": [
       "<Figure size 432x288 with 1 Axes>"
      ]
     },
     "metadata": {
      "needs_background": "light"
     },
     "output_type": "display_data"
    }
   ],
   "source": [
    "xaxis = southern_cities['Latitude']\n",
    "yaxis = southern_cities['Wind Speed']\n",
    "\n",
    "(slope, intercept, rvalue, pvalue, stderr) = linregress(xaxis, yaxis)\n",
    "regress_values = xaxis * slope + intercept\n",
    "line_eq = \"y = \" + str(round(slope,2)) + \"x + \" + str(round(intercept,2))\n",
    "plt.xlabel('Latitude')\n",
    "plt.ylabel('Wind Speed')\n",
    "plt.title('Southern Hemisphere Latitude vs. Wind Speed')\n",
    "\n",
    "plt.scatter(xaxis,yaxis)\n",
    "plt.plot(xaxis,regress_values,\"r-\")\n",
    "plt.show"
   ]
  },
  {
   "cell_type": "markdown",
   "metadata": {},
   "source": [
    "Wind speed appears to decreaase as latitidue approaches 0.\n",
    "This relationship appears stronger in the southern hemisphere."
   ]
  }
 ],
 "metadata": {
  "anaconda-cloud": {},
  "kernel_info": {
   "name": "python3"
  },
  "kernelspec": {
   "display_name": "Python 3",
   "language": "python",
   "name": "python3"
  },
  "language_info": {
   "codemirror_mode": {
    "name": "ipython",
    "version": 3
   },
   "file_extension": ".py",
   "mimetype": "text/x-python",
   "name": "python",
   "nbconvert_exporter": "python",
   "pygments_lexer": "ipython3",
   "version": "3.8.8"
  },
  "latex_envs": {
   "LaTeX_envs_menu_present": true,
   "autoclose": false,
   "autocomplete": true,
   "bibliofile": "biblio.bib",
   "cite_by": "apalike",
   "current_citInitial": 1,
   "eqLabelWithNumbers": true,
   "eqNumInitial": 1,
   "hotkeys": {
    "equation": "Ctrl-E",
    "itemize": "Ctrl-I"
   },
   "labels_anchors": false,
   "latex_user_defs": false,
   "report_style_numbering": false,
   "user_envs_cfg": false
  },
  "nteract": {
   "version": "0.12.3"
  }
 },
 "nbformat": 4,
 "nbformat_minor": 4
}
